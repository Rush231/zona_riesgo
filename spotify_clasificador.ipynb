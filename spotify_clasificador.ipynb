{
  "nbformat": 4,
  "nbformat_minor": 0,
  "metadata": {
    "colab": {
      "provenance": [],
      "toc_visible": true,
      "mount_file_id": "1J6G_bMD-7xed4HD3YtjpS1uFJhDW380L",
      "authorship_tag": "ABX9TyMqjDQ1Q/bEwKCJrkegKyZV",
      "include_colab_link": true
    },
    "kernelspec": {
      "name": "python3",
      "display_name": "Python 3"
    },
    "language_info": {
      "name": "python"
    }
  },
  "cells": [
    {
      "cell_type": "markdown",
      "metadata": {
        "id": "view-in-github",
        "colab_type": "text"
      },
      "source": [
        "<a href=\"https://colab.research.google.com/github/Rush231/zona_riesgo/blob/main/spotify_clasificador.ipynb\" target=\"_parent\"><img src=\"https://colab.research.google.com/assets/colab-badge.svg\" alt=\"Open In Colab\"/></a>"
      ]
    },
    {
      "cell_type": "markdown",
      "source": [
        "Alumno Cordoba Damian\n",
        "\n",
        "Cargamos los datos y armamos el codigo para preparar los datos"
      ],
      "metadata": {
        "id": "MVOrb_81s_sL"
      }
    },
    {
      "cell_type": "code",
      "source": [
        "import pandas as pd\n",
        "from matplotlib import pyplot as plt\n",
        "from sklearn.model_selection import train_test_split, cross_val_score, GridSearchCV, RandomizedSearchCV\n",
        "from sklearn.preprocessing import StandardScaler\n",
        "from sklearn.neighbors import KNeighborsClassifier\n",
        "from sklearn.svm import SVC\n",
        "from sklearn.tree import DecisionTreeClassifier\n",
        "from sklearn.naive_bayes import GaussianNB\n",
        "from sklearn.ensemble import VotingClassifier\n",
        "from sklearn.metrics import confusion_matrix, accuracy_score, precision_score, recall_score, f1_score\n",
        "from sklearn.metrics import classification_report\n",
        "from sklearn.ensemble import RandomForestClassifier\n",
        "# Carga el conjunto de datos (reemplaza 'file_path' con la ruta de tu archivo CSV)\n",
        "data = pd.read_csv('/content/drive/MyDrive/spotify/Canciones_Spotify.csv')\n",
        "\n",
        "# Separar características (X) y etiquetas (y)\n",
        "X = data.drop(['song_title', 'artist', 'target'], axis=1)  # Características\n",
        "y = data['target']  # Etiquetas\n",
        "\n",
        "\n",
        "# División de datos en entrenamiento y prueba\n",
        "X_train, X_test, y_train, y_test = train_test_split(X, y, test_size=0.2, random_state=42)\n",
        "\n",
        "# Escalar los datos (si es necesario)\n",
        "scaler = StandardScaler()\n",
        "X_train = scaler.fit_transform(X_train)\n",
        "X_test = scaler.transform(X_test)\n",
        "\n",
        "# Dividir datos en conjuntos de entrenamiento y prueba (80% entrenamiento, 20% prueba)\n",
        "X_train, X_test, y_train, y_test = train_test_split(X, y, test_size=0.2, random_state=42)"
      ],
      "metadata": {
        "id": "FfNYkWnhXB5i"
      },
      "execution_count": 2,
      "outputs": []
    },
    {
      "cell_type": "markdown",
      "source": [
        "reviso las columnas del archivo"
      ],
      "metadata": {
        "id": "uyYgEbf1cWky"
      }
    },
    {
      "cell_type": "code",
      "source": [
        "print(data.columns)"
      ],
      "metadata": {
        "id": "XuLJlSneY46Q",
        "colab": {
          "base_uri": "https://localhost:8080/"
        },
        "outputId": "954cd46a-fdcb-47c7-8864-d81fbf1f5250"
      },
      "execution_count": 3,
      "outputs": [
        {
          "output_type": "stream",
          "name": "stdout",
          "text": [
            "Index(['Unnamed: 0', 'acousticness', 'danceability', 'duration_ms', 'energy',\n",
            "       'instrumentalness', 'key', 'liveness', 'loudness', 'mode',\n",
            "       'speechiness', 'tempo', 'time_signature', 'valence', 'target',\n",
            "       'song_title', 'artist'],\n",
            "      dtype='object')\n"
          ]
        }
      ]
    },
    {
      "cell_type": "markdown",
      "source": [
        "En este momento selecciono  los modelos que pide el trabajo"
      ],
      "metadata": {
        "id": "02ytT4iac36E"
      }
    },
    {
      "cell_type": "code",
      "source": [
        "from sklearn.neighbors import KNeighborsClassifier\n",
        "from sklearn.svm import SVC\n",
        "from sklearn.tree import DecisionTreeClassifier\n",
        "from sklearn.naive_bayes import GaussianNB\n",
        "# Puedes elegir otro modelo, por ejemplo:\n",
        "from sklearn.ensemble import RandomForestClassifier\n",
        "\n",
        "# Inicialización de modelos\n",
        "knn = KNeighborsClassifier()\n",
        "svm = SVC()\n",
        "decision_tree = DecisionTreeClassifier()\n",
        "naive_bayes = GaussianNB()  # Modelo adicional\n",
        "# Entrenar los modelos\n",
        "knn.fit(X_train, y_train)\n",
        "svm.fit(X_train, y_train)\n",
        "decision_tree.fit(X_train, y_train)\n",
        "naive_bayes.fit(X_train, y_train)\n"
      ],
      "metadata": {
        "id": "5-M7EI-bYE_Y",
        "colab": {
          "base_uri": "https://localhost:8080/",
          "height": 75
        },
        "outputId": "53752db3-ce92-439d-e093-720e1cf14aef"
      },
      "execution_count": 4,
      "outputs": [
        {
          "output_type": "execute_result",
          "data": {
            "text/plain": [
              "GaussianNB()"
            ],
            "text/html": [
              "<style>#sk-container-id-1 {color: black;background-color: white;}#sk-container-id-1 pre{padding: 0;}#sk-container-id-1 div.sk-toggleable {background-color: white;}#sk-container-id-1 label.sk-toggleable__label {cursor: pointer;display: block;width: 100%;margin-bottom: 0;padding: 0.3em;box-sizing: border-box;text-align: center;}#sk-container-id-1 label.sk-toggleable__label-arrow:before {content: \"▸\";float: left;margin-right: 0.25em;color: #696969;}#sk-container-id-1 label.sk-toggleable__label-arrow:hover:before {color: black;}#sk-container-id-1 div.sk-estimator:hover label.sk-toggleable__label-arrow:before {color: black;}#sk-container-id-1 div.sk-toggleable__content {max-height: 0;max-width: 0;overflow: hidden;text-align: left;background-color: #f0f8ff;}#sk-container-id-1 div.sk-toggleable__content pre {margin: 0.2em;color: black;border-radius: 0.25em;background-color: #f0f8ff;}#sk-container-id-1 input.sk-toggleable__control:checked~div.sk-toggleable__content {max-height: 200px;max-width: 100%;overflow: auto;}#sk-container-id-1 input.sk-toggleable__control:checked~label.sk-toggleable__label-arrow:before {content: \"▾\";}#sk-container-id-1 div.sk-estimator input.sk-toggleable__control:checked~label.sk-toggleable__label {background-color: #d4ebff;}#sk-container-id-1 div.sk-label input.sk-toggleable__control:checked~label.sk-toggleable__label {background-color: #d4ebff;}#sk-container-id-1 input.sk-hidden--visually {border: 0;clip: rect(1px 1px 1px 1px);clip: rect(1px, 1px, 1px, 1px);height: 1px;margin: -1px;overflow: hidden;padding: 0;position: absolute;width: 1px;}#sk-container-id-1 div.sk-estimator {font-family: monospace;background-color: #f0f8ff;border: 1px dotted black;border-radius: 0.25em;box-sizing: border-box;margin-bottom: 0.5em;}#sk-container-id-1 div.sk-estimator:hover {background-color: #d4ebff;}#sk-container-id-1 div.sk-parallel-item::after {content: \"\";width: 100%;border-bottom: 1px solid gray;flex-grow: 1;}#sk-container-id-1 div.sk-label:hover label.sk-toggleable__label {background-color: #d4ebff;}#sk-container-id-1 div.sk-serial::before {content: \"\";position: absolute;border-left: 1px solid gray;box-sizing: border-box;top: 0;bottom: 0;left: 50%;z-index: 0;}#sk-container-id-1 div.sk-serial {display: flex;flex-direction: column;align-items: center;background-color: white;padding-right: 0.2em;padding-left: 0.2em;position: relative;}#sk-container-id-1 div.sk-item {position: relative;z-index: 1;}#sk-container-id-1 div.sk-parallel {display: flex;align-items: stretch;justify-content: center;background-color: white;position: relative;}#sk-container-id-1 div.sk-item::before, #sk-container-id-1 div.sk-parallel-item::before {content: \"\";position: absolute;border-left: 1px solid gray;box-sizing: border-box;top: 0;bottom: 0;left: 50%;z-index: -1;}#sk-container-id-1 div.sk-parallel-item {display: flex;flex-direction: column;z-index: 1;position: relative;background-color: white;}#sk-container-id-1 div.sk-parallel-item:first-child::after {align-self: flex-end;width: 50%;}#sk-container-id-1 div.sk-parallel-item:last-child::after {align-self: flex-start;width: 50%;}#sk-container-id-1 div.sk-parallel-item:only-child::after {width: 0;}#sk-container-id-1 div.sk-dashed-wrapped {border: 1px dashed gray;margin: 0 0.4em 0.5em 0.4em;box-sizing: border-box;padding-bottom: 0.4em;background-color: white;}#sk-container-id-1 div.sk-label label {font-family: monospace;font-weight: bold;display: inline-block;line-height: 1.2em;}#sk-container-id-1 div.sk-label-container {text-align: center;}#sk-container-id-1 div.sk-container {/* jupyter's `normalize.less` sets `[hidden] { display: none; }` but bootstrap.min.css set `[hidden] { display: none !important; }` so we also need the `!important` here to be able to override the default hidden behavior on the sphinx rendered scikit-learn.org. See: https://github.com/scikit-learn/scikit-learn/issues/21755 */display: inline-block !important;position: relative;}#sk-container-id-1 div.sk-text-repr-fallback {display: none;}</style><div id=\"sk-container-id-1\" class=\"sk-top-container\"><div class=\"sk-text-repr-fallback\"><pre>GaussianNB()</pre><b>In a Jupyter environment, please rerun this cell to show the HTML representation or trust the notebook. <br />On GitHub, the HTML representation is unable to render, please try loading this page with nbviewer.org.</b></div><div class=\"sk-container\" hidden><div class=\"sk-item\"><div class=\"sk-estimator sk-toggleable\"><input class=\"sk-toggleable__control sk-hidden--visually\" id=\"sk-estimator-id-1\" type=\"checkbox\" checked><label for=\"sk-estimator-id-1\" class=\"sk-toggleable__label sk-toggleable__label-arrow\">GaussianNB</label><div class=\"sk-toggleable__content\"><pre>GaussianNB()</pre></div></div></div></div></div>"
            ]
          },
          "metadata": {},
          "execution_count": 4
        }
      ]
    },
    {
      "cell_type": "markdown",
      "source": [
        "En esta seccion podemos ver la presicion de cada modelo"
      ],
      "metadata": {
        "id": "pjLoyf_Gtd4D"
      }
    },
    {
      "cell_type": "code",
      "source": [
        "def evaluate_model(model, X_test, y_test):\n",
        "    y_pred = model.predict(X_test)\n",
        "    print(\"Accuracy:\", accuracy_score(y_test, y_pred))\n",
        "    print(\"Precision:\", precision_score(y_test, y_pred))\n",
        "    print(\"Recall:\", recall_score(y_test, y_pred))\n",
        "    print(\"F1 Score:\", f1_score(y_test, y_pred))\n",
        "    print(\"Confusion Matrix:\\n\", confusion_matrix(y_test, y_pred))\n",
        "\n",
        "# Evaluación de cada modelo\n",
        "print(\"KNN:\")\n",
        "evaluate_model(knn, X_test, y_test)\n",
        "\n",
        "print(\"\\nSVM:\")\n",
        "evaluate_model(svm, X_test, y_test)\n",
        "\n",
        "print(\"\\nDecision Tree:\")\n",
        "evaluate_model(decision_tree, X_test, y_test)\n",
        "\n",
        "print(\"\\nNaive Bayes:\")\n",
        "evaluate_model(naive_bayes, X_test, y_test)"
      ],
      "metadata": {
        "id": "Fm383GVpgu3k",
        "colab": {
          "base_uri": "https://localhost:8080/"
        },
        "outputId": "f6ac06cf-2dc2-46e4-94a9-1d7aebc4e52a"
      },
      "execution_count": 5,
      "outputs": [
        {
          "output_type": "stream",
          "name": "stdout",
          "text": [
            "KNN:\n",
            "Accuracy: 0.8910891089108911\n",
            "Precision: 0.8632075471698113\n",
            "Recall: 0.9242424242424242\n",
            "F1 Score: 0.8926829268292683\n",
            "Confusion Matrix:\n",
            " [[177  29]\n",
            " [ 15 183]]\n",
            "\n",
            "SVM:\n",
            "Accuracy: 0.5668316831683168\n",
            "Precision: 0.6419753086419753\n",
            "Recall: 0.26262626262626265\n",
            "F1 Score: 0.3727598566308244\n",
            "Confusion Matrix:\n",
            " [[177  29]\n",
            " [146  52]]\n",
            "\n",
            "Decision Tree:\n",
            "Accuracy: 1.0\n",
            "Precision: 1.0\n",
            "Recall: 1.0\n",
            "F1 Score: 1.0\n",
            "Confusion Matrix:\n",
            " [[206   0]\n",
            " [  0 198]]\n",
            "\n",
            "Naive Bayes:\n",
            "Accuracy: 0.9876237623762376\n",
            "Precision: 0.9948717948717949\n",
            "Recall: 0.9797979797979798\n",
            "F1 Score: 0.9872773536895675\n",
            "Confusion Matrix:\n",
            " [[205   1]\n",
            " [  4 194]]\n"
          ]
        }
      ]
    },
    {
      "cell_type": "markdown",
      "source": [
        "Aca podemos ver las matrices de confusion de forma mas grafica sobre el svm y el knn"
      ],
      "metadata": {
        "id": "crYSQxStfYIR"
      }
    },
    {
      "cell_type": "code",
      "source": [
        "from sklearn.metrics import confusion_matrix\n",
        "import matplotlib.pyplot as plt\n",
        "import seaborn as sns\n",
        "\n",
        "# Realizar predicciones en el conjunto de prueba\n",
        "y_pred = svm.predict(X_test)\n",
        "\n",
        "# Generar la matriz de confusión\n",
        "conf_matrix = confusion_matrix(y_test, y_pred)\n",
        "\n",
        "# Visualizar la matriz de confusión\n",
        "plt.figure(figsize=(8, 6))\n",
        "sns.heatmap(conf_matrix, annot=True, fmt='d', cmap='Blues', cbar=False)\n",
        "plt.xlabel('Predicted Labels')\n",
        "plt.ylabel('True Labels')\n",
        "plt.title('Confusion Matrix - SVM')\n",
        "plt.show()"
      ],
      "metadata": {
        "id": "xy3FpZGHjG3y",
        "colab": {
          "base_uri": "https://localhost:8080/",
          "height": 564
        },
        "outputId": "15e8b807-81e2-4383-fff8-56706bcf183b"
      },
      "execution_count": 6,
      "outputs": [
        {
          "output_type": "display_data",
          "data": {
            "text/plain": [
              "<Figure size 800x600 with 1 Axes>"
            ],
            "image/png": "[encoded data removed]"
          },
          "metadata": {}
        }
      ]
    },
    {
      "cell_type": "code",
      "source": [
        "\n",
        "# Realizar predicciones en el conjunto de prueba\n",
        "y_pred_knn = knn.predict(X_test)\n",
        "\n",
        "# Generar la matriz de confusión\n",
        "conf_matrix_knn = confusion_matrix(y_test, y_pred_knn)\n",
        "\n",
        "# Visualizar la matriz de confusión para KNN\n",
        "plt.figure(figsize=(8, 6))\n",
        "sns.heatmap(conf_matrix_knn, annot=True, fmt='d', cmap='Blues', cbar=False)\n",
        "plt.xlabel('Predicted Labels')\n",
        "plt.ylabel('True Labels')\n",
        "plt.title('Confusion Matrix - KNN')\n",
        "plt.show()"
      ],
      "metadata": {
        "id": "EHLBj6ANi_ZE",
        "colab": {
          "base_uri": "https://localhost:8080/",
          "height": 564
        },
        "outputId": "eadb36a4-218f-4907-80d2-7d656e44b946"
      },
      "execution_count": 7,
      "outputs": [
        {
          "output_type": "display_data",
          "data": {
            "text/plain": [
              "<Figure size 800x600 with 1 Axes>"
            ],
            "image/png": "[encoded data removed]"
          },
          "metadata": {}
        }
      ]
    },
    {
      "cell_type": "code",
      "source": [
        "# División de datos en entrenamiento y prueba utilizando validación simple\n",
        "X_train_simple, X_test_simple, y_train_simple, y_test_simple = train_test_split(X, y, test_size=0.2, random_state=42)\n",
        "\n",
        "# Entrenar un modelo (por ejemplo, SVM) usando el conjunto de entrenamiento simple\n",
        "svm_simple = SVC()\n",
        "svm_simple.fit(X_train_simple, y_train_simple)\n",
        "\n",
        "# Evaluar el modelo en el conjunto de prueba simple\n",
        "evaluate_model(svm_simple, X_test_simple, y_test_simple)"
      ],
      "metadata": {
        "id": "IKhBdn9xhNeb",
        "colab": {
          "base_uri": "https://localhost:8080/"
        },
        "outputId": "3223bb21-6fbe-440c-ba04-0b1327a3732a"
      },
      "execution_count": 8,
      "outputs": [
        {
          "output_type": "stream",
          "name": "stdout",
          "text": [
            "Accuracy: 0.5668316831683168\n",
            "Precision: 0.6419753086419753\n",
            "Recall: 0.26262626262626265\n",
            "F1 Score: 0.3727598566308244\n",
            "Confusion Matrix:\n",
            " [[177  29]\n",
            " [146  52]]\n"
          ]
        }
      ]
    },
    {
      "cell_type": "markdown",
      "source": [
        "En esta zona vamos a ver los hiper parametros donde elijo usar GridSearchCV ya que obtiene datos mas precisos, y busca exhaustivamente todas las combinaciones posibles de los hiperparámetros proporcionados en una cuadrícula predefinida, el problema es que es costoso computacionalmente, puede volverse lento y costoso computacionalmente, especialmente con un gran número de hiperparámetros y valores a explorar"
      ],
      "metadata": {
        "id": "5vwvBbBGqqge"
      }
    },
    {
      "cell_type": "code",
      "source": [
        " #Ajuste de hiperparámetros utilizando GridSearchCV\n",
        "# para KNN\n",
        "param_grid_knn = {'n_neighbors': [3, 5, 7], 'weights': ['uniform', 'distance']}\n",
        "grid_search_knn = GridSearchCV(knn, param_grid_knn, cv=5)\n",
        "grid_search_knn.fit(X_train, y_train)\n",
        "best_knn = grid_search_knn.best_estimator_\n",
        "print(\"Best KNN Parameters:\", grid_search_knn.best_params_)"
      ],
      "metadata": {
        "id": "hM3raFGBih5s",
        "colab": {
          "base_uri": "https://localhost:8080/"
        },
        "outputId": "9512f84b-c212-42ad-b7ad-455fe626e9a2"
      },
      "execution_count": 13,
      "outputs": [
        {
          "output_type": "stream",
          "name": "stdout",
          "text": [
            "Best KNN Parameters: {'n_neighbors': 3, 'weights': 'distance'}\n"
          ]
        }
      ]
    },
    {
      "cell_type": "markdown",
      "source": [
        "En este hiper parametro lo dejo como comentario ya que no pude solucionar un problema el cual al ejecutar queda cargando eternamente.\n"
      ],
      "metadata": {
        "id": "itf4UUkFwYFu"
      }
    },
    {
      "cell_type": "code",
      "source": [
        "# Definir los parámetros a buscar para SVM\n",
        "#param_grid_svm = {\n",
        " #   'C': [0.1, 1, 10],\n",
        "  #  'kernel': ['linear', 'rbf', 'poly'],\n",
        "  #  'gamma': ['scale', 'auto']\n",
        "#}\n",
        "\n",
        "# Inicializar el modelo SVM\n",
        "#svm = SVC()\n",
        "\n",
        "# Realizar la búsqueda de hiperparámetros con GridSearchCV para SVM\n",
        "#grid_search_svm = GridSearchCV(svm, param_grid_svm, cv=5, scoring='accuracy')\n",
        "#grid_search_svm.fit(X_train, y_train)\n",
        "\n",
        "# Obtener los mejores hiperparámetros para SVM\n",
        "#best_params_svm = grid_search_svm.best_params_\n",
        "#print(\"Best Parameters - SVM:\", best_params_svm)"
      ],
      "metadata": {
        "id": "nPfKw6fAqvYI"
      },
      "execution_count": 10,
      "outputs": []
    },
    {
      "cell_type": "code",
      "source": [
        "# Definir los parámetros a buscar para Árbol de Decisión\n",
        "param_grid_tree = {\n",
        "    'max_depth': [None, 5, 10, 15],\n",
        "    'min_samples_split': [2, 5, 10],\n",
        "    'min_samples_leaf': [1, 2, 4]\n",
        "}\n",
        "\n",
        "# Inicializar el modelo Árbol de Decisión\n",
        "decision_tree = DecisionTreeClassifier()\n",
        "\n",
        "# Realizar la búsqueda de hiperparámetros con GridSearchCV para Árbol de Decisión\n",
        "grid_search_tree = GridSearchCV(decision_tree, param_grid_tree, cv=5, scoring='accuracy')\n",
        "grid_search_tree.fit(X_train, y_train)\n",
        "\n",
        "# Obtener los mejores hiperparámetros para Árbol de Decisión\n",
        "best_params_tree = grid_search_tree.best_params_\n",
        "print(\"Best Parameters - Decision Tree:\", best_params_tree)"
      ],
      "metadata": {
        "id": "qXs6QTRLq4Tw",
        "colab": {
          "base_uri": "https://localhost:8080/"
        },
        "outputId": "dc3cd3ee-3b87-4c9a-de35-8b6dfecc1d14"
      },
      "execution_count": 11,
      "outputs": [
        {
          "output_type": "stream",
          "name": "stdout",
          "text": [
            "Best Parameters - Decision Tree: {'max_depth': None, 'min_samples_leaf': 1, 'min_samples_split': 2}\n"
          ]
        }
      ]
    },
    {
      "cell_type": "markdown",
      "source": [
        "En esta seccion se ensambla los modelos"
      ],
      "metadata": {
        "id": "lSgEh7O2wPpM"
      }
    },
    {
      "cell_type": "code",
      "source": [
        "# Ensamblado de modelos utilizando VotingClassifier\n",
        "voting_classifier = VotingClassifier(estimators=[('knn', best_knn), ('svm', svm), ('decision_tree', decision_tree), ('naive_bayes', naive_bayes)], voting='hard')\n",
        "voting_classifier.fit(X_train, y_train)\n",
        "\n",
        "# Evaluación del ensamble\n",
        "print(\"\\nEnsemble Model:\")\n",
        "evaluate_model(voting_classifier, X_test, y_test)\n"
      ],
      "metadata": {
        "id": "YHYq9OJOflbo",
        "colab": {
          "base_uri": "https://localhost:8080/"
        },
        "outputId": "db22dcd1-6b9a-4ecf-a338-b1dcc38f0e4b"
      },
      "execution_count": 12,
      "outputs": [
        {
          "output_type": "stream",
          "name": "stdout",
          "text": [
            "\n",
            "Ensemble Model:\n",
            "Accuracy: 0.9653465346534653\n",
            "Precision: 1.0\n",
            "Recall: 0.9292929292929293\n",
            "F1 Score: 0.9633507853403142\n",
            "Confusion Matrix:\n",
            " [[206   0]\n",
            " [ 14 184]]\n"
          ]
        }
      ]
    },
    {
      "cell_type": "code",
      "source": [
        "# Ensamblado de modelos utilizando VotingClassifier\n",
        "voting_classifier = VotingClassifier(estimators=[('knn', best_knn), ('svm', svm), ('decision_tree', decision_tree), ('naive_bayes', naive_bayes)], voting='hard')\n",
        "voting_classifier.fit(X_train, y_train)\n",
        "\n",
        "# Evaluación del ensamble\n",
        "print(\"\\nEnsemble Model:\")\n",
        "evaluate_model(voting_classifier, X_test, y_test)"
      ],
      "metadata": {
        "id": "1CwE95-2i2w_",
        "colab": {
          "base_uri": "https://localhost:8080/"
        },
        "outputId": "7a0522e5-cb78-4418-9968-5df699b1cbb2"
      },
      "execution_count": 14,
      "outputs": [
        {
          "output_type": "stream",
          "name": "stdout",
          "text": [
            "\n",
            "Ensemble Model:\n",
            "Accuracy: 0.9653465346534653\n",
            "Precision: 1.0\n",
            "Recall: 0.9292929292929293\n",
            "F1 Score: 0.9633507853403142\n",
            "Confusion Matrix:\n",
            " [[206   0]\n",
            " [ 14 184]]\n"
          ]
        }
      ]
    },
    {
      "cell_type": "markdown",
      "source": [
        "evaluaciones finales del modelo"
      ],
      "metadata": {
        "id": "qA0Ml826leXn"
      }
    },
    {
      "cell_type": "code",
      "source": [
        "# Realizar predicciones en el conjunto de prueba\n",
        "y_pred_svm = svm.predict(X_test)\n",
        "\n",
        "# Generar la matriz de confusión para SVM\n",
        "conf_matrix_svm = confusion_matrix(y_test, y_pred_svm)\n",
        "\n",
        "# Visualizar la matriz de confusión para SVM\n",
        "plt.figure(figsize=(8, 6))\n",
        "sns.heatmap(conf_matrix_svm, annot=True, fmt='d', cmap='Blues', cbar=False)\n",
        "plt.xlabel('Predicted Labels')\n",
        "plt.ylabel('True Labels')\n",
        "plt.title('Confusion Matrix - SVM')\n",
        "plt.show()\n",
        "\n",
        "# Obtener y mostrar métricas de precisión, recall y F1-score para SVM\n",
        "print(\"Classification Report - SVM:\")\n",
        "print(classification_report(y_test, y_pred_svm))"
      ],
      "metadata": {
        "id": "bFJFH2LRldpT",
        "colab": {
          "base_uri": "https://localhost:8080/",
          "height": 738
        },
        "outputId": "77f89632-3e2f-4e7b-b23c-52b1e25cfdee"
      },
      "execution_count": 15,
      "outputs": [
        {
          "output_type": "display_data",
          "data": {
            "text/plain": [
              "<Figure size 800x600 with 1 Axes>"
            ],
            "image/png": "[encoded data removed]"
          },
          "metadata": {}
        },
        {
          "output_type": "stream",
          "name": "stdout",
          "text": [
            "Classification Report - SVM:\n",
            "              precision    recall  f1-score   support\n",
            "\n",
            "           0       0.55      0.86      0.67       206\n",
            "           1       0.64      0.26      0.37       198\n",
            "\n",
            "    accuracy                           0.57       404\n",
            "   macro avg       0.59      0.56      0.52       404\n",
            "weighted avg       0.59      0.57      0.52       404\n",
            "\n"
          ]
        }
      ]
    },
    {
      "cell_type": "code",
      "source": [
        "# Realizar predicciones en el conjunto de prueba\n",
        "y_pred_knn = knn.predict(X_test)\n",
        "\n",
        "# Generar la matriz de confusión para KNN\n",
        "conf_matrix_knn = confusion_matrix(y_test, y_pred_knn)\n",
        "\n",
        "# Visualizar la matriz de confusión para KNN\n",
        "plt.figure(figsize=(8, 6))\n",
        "sns.heatmap(conf_matrix_knn, annot=True, fmt='d', cmap='Blues', cbar=False)\n",
        "plt.xlabel('Predicted Labels')\n",
        "plt.ylabel('True Labels')\n",
        "plt.title('Confusion Matrix - KNN')\n",
        "plt.show()\n",
        "\n",
        "# Obtener y mostrar métricas de precisión, recall y F1-score para KNN\n",
        "print(\"Classification Report - KNN:\")\n",
        "print(classification_report(y_test, y_pred_knn))"
      ],
      "metadata": {
        "id": "qwKIpkozllW0",
        "colab": {
          "base_uri": "https://localhost:8080/",
          "height": 738
        },
        "outputId": "7be8b01f-cbfd-4ecd-9221-f4b4d7162114"
      },
      "execution_count": 16,
      "outputs": [
        {
          "output_type": "display_data",
          "data": {
            "text/plain": [
              "<Figure size 800x600 with 1 Axes>"
            ],
            "image/png": "[encoded data removed]"
          },
          "metadata": {}
        },
        {
          "output_type": "stream",
          "name": "stdout",
          "text": [
            "Classification Report - KNN:\n",
            "              precision    recall  f1-score   support\n",
            "\n",
            "           0       0.92      0.86      0.89       206\n",
            "           1       0.86      0.92      0.89       198\n",
            "\n",
            "    accuracy                           0.89       404\n",
            "   macro avg       0.89      0.89      0.89       404\n",
            "weighted avg       0.89      0.89      0.89       404\n",
            "\n"
          ]
        }
      ]
    },
    {
      "cell_type": "code",
      "source": [
        "# Inicializar el modelo Árbol de Decisión\n",
        "decision_tree = DecisionTreeClassifier()\n",
        "\n",
        "# Entrenar el modelo con los datos de entrenamiento\n",
        "decision_tree.fit(X_train, y_train)\n",
        "\n",
        "# Realizar predicciones en el conjunto de prueba\n",
        "y_pred_tree = decision_tree.predict(X_test)\n",
        "\n",
        "# Generar la matriz de confusión para Árbol de Decisión\n",
        "conf_matrix_tree = confusion_matrix(y_test, y_pred_tree)\n",
        "\n",
        "# Visualizar la matriz de confusión para Árbol de Decisión\n",
        "plt.figure(figsize=(8, 6))\n",
        "sns.heatmap(conf_matrix_tree, annot=True, fmt='d', cmap='Blues', cbar=False)\n",
        "plt.xlabel('Predicted Labels')\n",
        "plt.ylabel('True Labels')\n",
        "plt.title('Confusion Matrix - Decision Tree')\n",
        "plt.show()\n",
        "\n",
        "# Obtener y mostrar métricas de precisión, recall y F1-score para Árbol de Decisión\n",
        "print(\"Classification Report - Decision Tree:\")\n",
        "print(classification_report(y_test, y_pred_tree))"
      ],
      "metadata": {
        "colab": {
          "base_uri": "https://localhost:8080/",
          "height": 738
        },
        "id": "qr47JKTZvFuz",
        "outputId": "fe2742e6-7799-40c4-91c6-bb46bc77c9e0"
      },
      "execution_count": 21,
      "outputs": [
        {
          "output_type": "display_data",
          "data": {
            "text/plain": [
              "<Figure size 800x600 with 1 Axes>"
            ],
            "image/png": "[encoded data removed]"
          },
          "metadata": {}
        },
        {
          "output_type": "stream",
          "name": "stdout",
          "text": [
            "Classification Report - Decision Tree:\n",
            "              precision    recall  f1-score   support\n",
            "\n",
            "           0       1.00      1.00      1.00       206\n",
            "           1       1.00      1.00      1.00       198\n",
            "\n",
            "    accuracy                           1.00       404\n",
            "   macro avg       1.00      1.00      1.00       404\n",
            "weighted avg       1.00      1.00      1.00       404\n",
            "\n"
          ]
        }
      ]
    },
    {
      "cell_type": "code",
      "source": [
        "# Realizar predicciones en el conjunto de prueba\n",
        "y_pred_bayes = naive_bayes.predict(X_test)\n",
        "\n",
        "# Generar la matriz de confusión para Naive Bayes\n",
        "conf_matrix_bayes = confusion_matrix(y_test, y_pred_bayes)\n",
        "\n",
        "# Visualizar la matriz de confusión para Naive Bayes\n",
        "plt.figure(figsize=(8, 6))\n",
        "sns.heatmap(conf_matrix_bayes, annot=True, fmt='d', cmap='Blues', cbar=False)\n",
        "plt.xlabel('Predicted Labels')\n",
        "plt.ylabel('True Labels')\n",
        "plt.title('Confusion Matrix - Naive Bayes')\n",
        "plt.show()\n",
        "\n",
        "# Obtener y mostrar métricas de precisión, recall y F1-score para Naive Bayes\n",
        "print(\"Classification Report - Naive Bayes:\")\n",
        "print(classification_report(y_test, y_pred_bayes))"
      ],
      "metadata": {
        "id": "Qi3T0BJhlrqJ",
        "colab": {
          "base_uri": "https://localhost:8080/",
          "height": 738
        },
        "outputId": "0a284dc7-43f8-4e24-ffbd-1568fc6d8b0e"
      },
      "execution_count": 20,
      "outputs": [
        {
          "output_type": "display_data",
          "data": {
            "text/plain": [
              "<Figure size 800x600 with 1 Axes>"
            ],
            "image/png": "[encoded data removed]"
          },
          "metadata": {}
        },
        {
          "output_type": "stream",
          "name": "stdout",
          "text": [
            "Classification Report - Naive Bayes:\n",
            "              precision    recall  f1-score   support\n",
            "\n",
            "           0       0.98      1.00      0.99       206\n",
            "           1       0.99      0.98      0.99       198\n",
            "\n",
            "    accuracy                           0.99       404\n",
            "   macro avg       0.99      0.99      0.99       404\n",
            "weighted avg       0.99      0.99      0.99       404\n",
            "\n"
          ]
        }
      ]
    }
  ]
}